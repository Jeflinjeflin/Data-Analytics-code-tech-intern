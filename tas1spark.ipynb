{
 "cells": [
  {
   "cell_type": "code",
   "execution_count": null,
   "id": "5737a5ec",
   "metadata": {},
   "outputs": [],
   "source": [
    "\n",
    "from pyspark.sql import SparkSession\n",
    "\n",
    "spark = SparkSession.builder \\\n",
    "    .appName(\"FlightsAnalysis\") \\\n",
    "    .master(\"local[*]\") \\\n",
    "    .config(\"spark.driver.memory\", \"4g\") \\\n",
    "    .getOrCreate()\n"
   ]
  },
  {
   "cell_type": "code",
   "execution_count": null,
   "id": "7ff4dc99",
   "metadata": {},
   "outputs": [],
   "source": [
    "# Load dataset\n",
    "flights = spark.read.csv(\"flights.csv\", header=True, inferSchema=True)\n",
    "\n",
    "# See schema\n",
    "flights.printSchema()\n",
    "\n",
    "# Sample rows\n",
    "flights.show(5)"
   ]
  },
  {
   "cell_type": "code",
   "execution_count": null,
   "id": "b9de6a3b",
   "metadata": {},
   "outputs": [],
   "source": [
    "print(\"total flights:\",flights.count())"
   ]
  },
  {
   "cell_type": "code",
   "execution_count": null,
   "id": "49d667d4",
   "metadata": {},
   "outputs": [],
   "source": [
    "from pyspark.sql import functions as F\n",
    "\n",
    "busiest_routes = flights.groupBy(\"ORIGIN\", \"DEST\") \\\n",
    "    .count() \\\n",
    "    .orderBy(F.desc(\"count\"))\n",
    "\n",
    "busiest_routes.show(10, truncate=False)"
   ]
  },
  {
   "cell_type": "code",
   "execution_count": null,
   "id": "536bd72c",
   "metadata": {},
   "outputs": [],
   "source": [
    "avg_delay = flights.groupBy(\"CARRIER\") \\\n",
    "    .agg(F.avg(\"DEP_DELAY\").alias(\"AvgDepDelay\"),\n",
    "         F.avg(\"ARR_DELAY\").alias(\"AvgArrDelay\")) \\\n",
    "    .orderBy(\"CARRIER\")\n",
    "\n",
    "avg_delay.show()"
   ]
  },
  {
   "cell_type": "code",
   "execution_count": null,
   "id": "c6dc4baf",
   "metadata": {},
   "outputs": [],
   "source": [
    "monthly = flights.groupBy(\"MONTH\") \\\n",
    "    .agg(F.count(\"*\").alias(\"TotalFlights\"),\n",
    "         F.avg(\"CANCELLED\").alias(\"CancelRate\")) \\\n",
    "    .orderBy(\"MONTH\")\n",
    "\n",
    "monthly.show()"
   ]
  },
  {
   "cell_type": "code",
   "execution_count": null,
   "id": "6abb945a",
   "metadata": {},
   "outputs": [],
   "source": [
    "import matplotlib.pyplot as plt\n",
    "\n",
    "monthly_pd = monthly.toPandas()\n",
    "plt.plot(monthly_pd[\"MONTH\"], monthly_pd[\"TotalFlights\"])\n",
    "plt.xlabel(\"Month\")\n",
    "plt.ylabel(\"Total Flights\")\n",
    "plt.title(\"Flights per Month\")\n",
    "plt.show()"
   ]
  },
  {
   "cell_type": "code",
   "execution_count": null,
   "id": "c0742435",
   "metadata": {},
   "outputs": [],
   "source": []
  }
 ],
 "metadata": {
  "kernelspec": {
   "display_name": "pyspark_env",
   "language": "python",
   "name": "pyspark_env"
  },
  "language_info": {
   "codemirror_mode": {
    "name": "ipython",
    "version": 3
   },
   "file_extension": ".py",
   "mimetype": "text/x-python",
   "name": "python",
   "nbconvert_exporter": "python",
   "pygments_lexer": "ipython3",
   "version": "3.11.0"
  }
 },
 "nbformat": 4,
 "nbformat_minor": 5
}
